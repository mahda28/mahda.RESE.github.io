{
  "nbformat": 4,
  "nbformat_minor": 0,
  "metadata": {
    "colab": {
      "name": "Salinan dari Untitled5.ipynb",
      "provenance": []
    },
    "kernelspec": {
      "name": "python3",
      "display_name": "Python 3"
    },
    "language_info": {
      "name": "python"
    }
  },
  "cells": [
    {
      "cell_type": "code",
      "source": [
        "import math\n",
        "print('Operasi Matematika')\n",
        "print('  1. Jumlah \\t [+]')\n",
        "print('  2. Kurang \\t [-]')\n",
        "print('  3. Kali \\t [*]')\n",
        "print('  4. Bagi \\t [/]')\n",
        "print('  5. Faktorial \\t [!]')\n",
        "operasi = input('Pilih operasi (1/2/3/4/5): ')\n",
        "bilangan_1 = eval(input('Masukkan bilangan pertama: '))\n",
        "bilangan_2 = eval(input('Masukkan bilangan kedua: '))\n",
        "\n",
        "\n",
        "if operasi == '1':\n",
        "  hasil = bilangan_1 + bilangan_2\n",
        "  print(f'Hasil operasi dari {bilangan_1} + {bilangan_2} = {hasil}')\n",
        "elif operasi == '2':\n",
        "  hasil = bilangan_1 - bilangan_2\n",
        "  print(f'Hasil operasi dari {bilangan_1} - {bilangan_2} = {hasil}')\n",
        "elif operasi == '3':\n",
        "  hasil = bilangan_1 * bilangan_2\n",
        "  print(f'Hasil operasi dari {bilangan_1} * {bilangan_2} = {hasil}')\n",
        "elif operasi == '4':\n",
        "  hasil = bilangan_1 / bilangan_2\n",
        "  print(f'Hasil operasi dari {bilangan_1} / {bilangan_2} = {hasil}')\n",
        "elif operasi =='5':\n",
        "  faktorial = math.factorial(bilangan_1)\n",
        "  print(f'{bilangan_1}! = {faktorial}')\n",
        "else:\n",
        "  print('Tidak valid')\n"
      ],
      "metadata": {
        "colab": {
          "base_uri": "https://localhost:8080/"
        },
        "id": "n_3aRFE93f-l",
        "outputId": "918b1a08-f2ed-4dab-dd28-1e6ec17d317b"
      },
      "execution_count": 7,
      "outputs": [
        {
          "output_type": "stream",
          "name": "stdout",
          "text": [
            "Operasi Matematika\n",
            "  1. Jumlah \t [+]\n",
            "  2. Kurang \t [-]\n",
            "  3. Kali \t [*]\n",
            "  4. Bagi \t [/]\n",
            "  5. Faktorial \t [!]\n",
            "Pilih operasi (1/2/3/4): 5\n",
            "Masukkan bilangan pertama: 4\n",
            "Masukkan bilangan kedua: 0\n",
            "4! = 24\n"
          ]
        }
      ]
    }
  ]
}